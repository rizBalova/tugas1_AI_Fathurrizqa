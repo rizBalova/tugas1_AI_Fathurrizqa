{
  "nbformat": 4,
  "nbformat_minor": 0,
  "metadata": {
    "colab": {
      "provenance": [],
      "authorship_tag": "ABX9TyOkkHpcYYvaxR4PWEb7+150",
      "include_colab_link": true
    },
    "kernelspec": {
      "name": "python3",
      "display_name": "Python 3"
    },
    "language_info": {
      "name": "python"
    }
  },
  "cells": [
    {
      "cell_type": "markdown",
      "metadata": {
        "id": "view-in-github",
        "colab_type": "text"
      },
      "source": [
        "<a href=\"https://colab.research.google.com/github/rizBalova/tugas1_AI_Fathurrizqa/blob/main/tugas_ai.ipynb\" target=\"_parent\"><img src=\"https://colab.research.google.com/assets/colab-badge.svg\" alt=\"Open In Colab\"/></a>"
      ]
    },
    {
      "cell_type": "markdown",
      "source": [
        "# **Prediksi Data Gaji**\n",
        "\n",
        "**Importing Libraries**\n",
        "\n",
        "Pada proses ini saya melakukan import library atau package yang akan digunakan\n",
        "\n",
        "*  Pandas -> untuk meproses data\n",
        "*  LabelEncoder dan np -> untuk mengubah data object/string menjadi int dan memproses angka\n",
        "*   plt dan sn -> untuk visualisasi\n",
        "*   StandardScaler -> untuk normalisasi data angka\n",
        "*   RandomForestClassifier dan DecisionTreeClassifier -> untuk mengimport model algoritma machine learning\n",
        "*   GridSearchCV -> untuk hyperparameter tuning"
      ],
      "metadata": {
        "id": "-z1vNmai_PJP"
      }
    },
    {
      "cell_type": "code",
      "source": [
        "# import library\n",
        "import pandas as pd\n",
        "from sklearn.preprocessing import LabelEncoder\n",
        "import numpy as np\n",
        "from sklearn.preprocessing import StandardScaler\n",
        "from sklearn.tree import DecisionTreeClassifier\n",
        "from sklearn.ensemble import RandomForestClassifier\n",
        "from sklearn.model_selection import GridSearchCV\n",
        "from sklearn.model_selection import cross_val_predict\n",
        "from sklearn.metrics import roc_auc_score\n",
        "import seaborn as sn\n",
        "import matplotlib.pyplot as plt"
      ],
      "metadata": {
        "id": "LJRL3BAXGhAi"
      },
      "execution_count": null,
      "outputs": []
    },
    {
      "cell_type": "markdown",
      "source": [
        "**Import csv files using pandas**"
      ],
      "metadata": {
        "id": "8lGdW7CLISqS"
      }
    },
    {
      "cell_type": "code",
      "source": [
        "link = 'https://github.com/rizBalova/tugas1_AI_Fathurrizqa/blob/main/Pendapatan.csv'\n",
        "df = pd.read_csv(link)\n",
        ""
      ],
      "metadata": {
        "id": "XWszHmsTIbdG"
      },
      "execution_count": null,
      "outputs": []
    },
    {
      "cell_type": "code",
      "source": [
        "df.head()"
      ],
      "metadata": {
        "colab": {
          "base_uri": "https://localhost:8080/",
          "height": 146
        },
        "id": "nT-Hpt2YIt_5",
        "outputId": "46fb0305-58c3-4290-c2af-59fa13f941a2"
      },
      "execution_count": 4,
      "outputs": [
        {
          "output_type": "error",
          "ename": "NameError",
          "evalue": "name 'df' is not defined",
          "traceback": [
            "\u001b[0;31m---------------------------------------------------------------------------\u001b[0m",
            "\u001b[0;31mNameError\u001b[0m                                 Traceback (most recent call last)",
            "\u001b[0;32m<ipython-input-4-c42a15b2c7cf>\u001b[0m in \u001b[0;36m<cell line: 1>\u001b[0;34m()\u001b[0m\n\u001b[0;32m----> 1\u001b[0;31m \u001b[0mdf\u001b[0m\u001b[0;34m.\u001b[0m\u001b[0mhead\u001b[0m\u001b[0;34m(\u001b[0m\u001b[0;34m)\u001b[0m\u001b[0;34m\u001b[0m\u001b[0;34m\u001b[0m\u001b[0m\n\u001b[0m",
            "\u001b[0;31mNameError\u001b[0m: name 'df' is not defined"
          ]
        }
      ]
    },
    {
      "cell_type": "markdown",
      "source": [],
      "metadata": {
        "id": "7XieYZzWIZ9E"
      }
    }
  ]
}